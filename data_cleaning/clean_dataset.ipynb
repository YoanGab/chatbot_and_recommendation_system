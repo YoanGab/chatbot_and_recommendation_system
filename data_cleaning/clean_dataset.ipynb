{
 "cells": [
  {
   "cell_type": "code",
   "execution_count": 1,
   "id": "f29d75db-6b1b-453e-a068-5d0e8d099230",
   "metadata": {},
   "outputs": [],
   "source": [
    "# 3rd party imports\n",
    "import pandas as pd"
   ]
  },
  {
   "cell_type": "code",
   "execution_count": 2,
   "id": "c1a468ae-1323-49fd-a7f2-829e5e5537a1",
   "metadata": {},
   "outputs": [
    {
     "name": "stderr",
     "output_type": "stream",
     "text": [
      "/var/folders/5q/nhw4d0ys1kqgclnb7dz1yphm0000gp/T/ipykernel_68307/3581222025.py:1: DtypeWarning: Columns (17) have mixed types. Specify dtype option on import or set low_memory=False.\n",
      "  data = pd.read_csv(\"New_York_Airbnb_4_dec_2021.csv\", sep=',', header=0)\n"
     ]
    }
   ],
   "source": [
    "data: pd.DataFrame = pd.read_csv(\"../data/New_York_Airbnb_4_dec_2021.csv\", sep=',', header=0)"
   ]
  },
  {
   "cell_type": "code",
   "execution_count": 3,
   "id": "1f16db49-62be-459a-af47-608282c381f1",
   "metadata": {},
   "outputs": [
    {
     "data": {
      "text/plain": "     id                                               name  host_id  \\\n0  2595                              Skylit Midtown Castle     2845   \n1  3831  Whole flr w/private bdrm, bath & kitchen(pls r...     4869   \n2  5121                                    BlissArtsSpace!     7356   \n3  5136           Spacious Brooklyn Duplex, Patio + Garden     7378   \n4  5178                   Large Furnished Room Near B'way　     8967   \n\n     host_name neighbourhood_group       neighbourhood  latitude  longitude  \\\n0     Jennifer           Manhattan             Midtown  40.75356  -73.98559   \n1  LisaRoxanne            Brooklyn  Bedford-Stuyvesant  40.68494  -73.95765   \n2        Garon            Brooklyn  Bedford-Stuyvesant  40.68535  -73.95512   \n3      Rebecca            Brooklyn         Sunset Park  40.66265  -73.99454   \n4     Shunichi           Manhattan             Midtown  40.76457  -73.98317   \n\n         room_type  price  minimum_nights  number_of_reviews last_review  \\\n0  Entire home/apt    150              30                 48  2019-11-04   \n1  Entire home/apt     75               1                409  2021-10-22   \n2     Private room     60              30                 50  2016-06-05   \n3  Entire home/apt    275               5                  2  2021-08-08   \n4     Private room     68               2                507  2021-11-08   \n\n   reviews_per_month  calculated_host_listings_count  availability_365  \\\n0               0.33                               3               338   \n1               4.86                               1               194   \n2               0.52                               2               365   \n3               0.02                               1               123   \n4               3.68                               1               192   \n\n   number_of_reviews_ltm license  \n0                      0     NaN  \n1                     32     NaN  \n2                      0     NaN  \n3                      1     NaN  \n4                     33     NaN  ",
      "text/html": "<div>\n<style scoped>\n    .dataframe tbody tr th:only-of-type {\n        vertical-align: middle;\n    }\n\n    .dataframe tbody tr th {\n        vertical-align: top;\n    }\n\n    .dataframe thead th {\n        text-align: right;\n    }\n</style>\n<table border=\"1\" class=\"dataframe\">\n  <thead>\n    <tr style=\"text-align: right;\">\n      <th></th>\n      <th>id</th>\n      <th>name</th>\n      <th>host_id</th>\n      <th>host_name</th>\n      <th>neighbourhood_group</th>\n      <th>neighbourhood</th>\n      <th>latitude</th>\n      <th>longitude</th>\n      <th>room_type</th>\n      <th>price</th>\n      <th>minimum_nights</th>\n      <th>number_of_reviews</th>\n      <th>last_review</th>\n      <th>reviews_per_month</th>\n      <th>calculated_host_listings_count</th>\n      <th>availability_365</th>\n      <th>number_of_reviews_ltm</th>\n      <th>license</th>\n    </tr>\n  </thead>\n  <tbody>\n    <tr>\n      <th>0</th>\n      <td>2595</td>\n      <td>Skylit Midtown Castle</td>\n      <td>2845</td>\n      <td>Jennifer</td>\n      <td>Manhattan</td>\n      <td>Midtown</td>\n      <td>40.75356</td>\n      <td>-73.98559</td>\n      <td>Entire home/apt</td>\n      <td>150</td>\n      <td>30</td>\n      <td>48</td>\n      <td>2019-11-04</td>\n      <td>0.33</td>\n      <td>3</td>\n      <td>338</td>\n      <td>0</td>\n      <td>NaN</td>\n    </tr>\n    <tr>\n      <th>1</th>\n      <td>3831</td>\n      <td>Whole flr w/private bdrm, bath &amp; kitchen(pls r...</td>\n      <td>4869</td>\n      <td>LisaRoxanne</td>\n      <td>Brooklyn</td>\n      <td>Bedford-Stuyvesant</td>\n      <td>40.68494</td>\n      <td>-73.95765</td>\n      <td>Entire home/apt</td>\n      <td>75</td>\n      <td>1</td>\n      <td>409</td>\n      <td>2021-10-22</td>\n      <td>4.86</td>\n      <td>1</td>\n      <td>194</td>\n      <td>32</td>\n      <td>NaN</td>\n    </tr>\n    <tr>\n      <th>2</th>\n      <td>5121</td>\n      <td>BlissArtsSpace!</td>\n      <td>7356</td>\n      <td>Garon</td>\n      <td>Brooklyn</td>\n      <td>Bedford-Stuyvesant</td>\n      <td>40.68535</td>\n      <td>-73.95512</td>\n      <td>Private room</td>\n      <td>60</td>\n      <td>30</td>\n      <td>50</td>\n      <td>2016-06-05</td>\n      <td>0.52</td>\n      <td>2</td>\n      <td>365</td>\n      <td>0</td>\n      <td>NaN</td>\n    </tr>\n    <tr>\n      <th>3</th>\n      <td>5136</td>\n      <td>Spacious Brooklyn Duplex, Patio + Garden</td>\n      <td>7378</td>\n      <td>Rebecca</td>\n      <td>Brooklyn</td>\n      <td>Sunset Park</td>\n      <td>40.66265</td>\n      <td>-73.99454</td>\n      <td>Entire home/apt</td>\n      <td>275</td>\n      <td>5</td>\n      <td>2</td>\n      <td>2021-08-08</td>\n      <td>0.02</td>\n      <td>1</td>\n      <td>123</td>\n      <td>1</td>\n      <td>NaN</td>\n    </tr>\n    <tr>\n      <th>4</th>\n      <td>5178</td>\n      <td>Large Furnished Room Near B'way</td>\n      <td>8967</td>\n      <td>Shunichi</td>\n      <td>Manhattan</td>\n      <td>Midtown</td>\n      <td>40.76457</td>\n      <td>-73.98317</td>\n      <td>Private room</td>\n      <td>68</td>\n      <td>2</td>\n      <td>507</td>\n      <td>2021-11-08</td>\n      <td>3.68</td>\n      <td>1</td>\n      <td>192</td>\n      <td>33</td>\n      <td>NaN</td>\n    </tr>\n  </tbody>\n</table>\n</div>"
     },
     "execution_count": 3,
     "metadata": {},
     "output_type": "execute_result"
    }
   ],
   "source": [
    "data.head()"
   ]
  },
  {
   "cell_type": "code",
   "execution_count": 4,
   "id": "a5768c34-6624-4b60-bccc-6a0b5040cb50",
   "metadata": {},
   "outputs": [
    {
     "data": {
      "text/plain": "(38277, 18)"
     },
     "execution_count": 4,
     "metadata": {},
     "output_type": "execute_result"
    }
   ],
   "source": [
    "data.shape"
   ]
  },
  {
   "cell_type": "code",
   "execution_count": 5,
   "id": "5e619665-9605-4217-8a06-b338cfe707a3",
   "metadata": {},
   "outputs": [
    {
     "data": {
      "text/plain": "Index(['id', 'name', 'host_id', 'host_name', 'neighbourhood_group',\n       'neighbourhood', 'latitude', 'longitude', 'room_type', 'price',\n       'minimum_nights', 'number_of_reviews', 'last_review',\n       'reviews_per_month', 'calculated_host_listings_count',\n       'availability_365', 'number_of_reviews_ltm', 'license'],\n      dtype='object')"
     },
     "execution_count": 5,
     "metadata": {},
     "output_type": "execute_result"
    }
   ],
   "source": [
    "data.columns"
   ]
  },
  {
   "cell_type": "code",
   "execution_count": 6,
   "id": "187b5621-45f4-4b76-ade7-23e0499809b1",
   "metadata": {},
   "outputs": [],
   "source": [
    "clean_data: pd.DataFrame = data.copy()\n",
    "clean_data.drop('license', axis=1, inplace=True)"
   ]
  },
  {
   "cell_type": "code",
   "execution_count": 7,
   "id": "ab870e99-1107-49ad-9961-3ee2fe5c0abc",
   "metadata": {},
   "outputs": [
    {
     "data": {
      "text/plain": "['name', 'host_name', 'last_review', 'reviews_per_month']"
     },
     "execution_count": 7,
     "metadata": {},
     "output_type": "execute_result"
    }
   ],
   "source": [
    "col_nan: list[str] = [col for col in clean_data.columns if clean_data[col].isna().sum() > 0]\n",
    "col_nan"
   ]
  },
  {
   "cell_type": "code",
   "execution_count": 8,
   "id": "60229a3c-f51e-4c2c-abe9-4d508e43820a",
   "metadata": {},
   "outputs": [],
   "source": [
    "clean_data.dropna(axis=0, subset=['name', 'host_name', 'last_review', 'reviews_per_month'], inplace=True)"
   ]
  },
  {
   "cell_type": "code",
   "execution_count": 9,
   "id": "fdd0660c-e78a-4cd9-9ee7-d26658620a37",
   "metadata": {},
   "outputs": [
    {
     "data": {
      "text/plain": "(28747, 17)"
     },
     "execution_count": 9,
     "metadata": {},
     "output_type": "execute_result"
    }
   ],
   "source": [
    "clean_data.shape"
   ]
  },
  {
   "cell_type": "code",
   "execution_count": 10,
   "id": "cd9d77cd-86b5-4a06-9977-017a94ff2ce3",
   "metadata": {},
   "outputs": [
    {
     "data": {
      "text/plain": "False"
     },
     "execution_count": 10,
     "metadata": {},
     "output_type": "execute_result"
    }
   ],
   "source": [
    "clean_data.isnull().values.any()"
   ]
  },
  {
   "cell_type": "code",
   "execution_count": 13,
   "outputs": [],
   "source": [
    "clean_data.to_csv(\"../data/New_York_Airbnb_4_dec_2021_cleaned.csv\", sep=',', index=False)"
   ],
   "metadata": {
    "collapsed": false,
    "pycharm": {
     "name": "#%%\n"
    }
   }
  },
  {
   "cell_type": "code",
   "execution_count": 14,
   "outputs": [],
   "source": [],
   "metadata": {
    "collapsed": false,
    "pycharm": {
     "name": "#%%"
    }
   }
  }
 ],
 "metadata": {
  "kernelspec": {
   "display_name": "Python 3 (ipykernel)",
   "language": "python",
   "name": "python3"
  },
  "language_info": {
   "codemirror_mode": {
    "name": "ipython",
    "version": 3
   },
   "file_extension": ".py",
   "mimetype": "text/x-python",
   "name": "python",
   "nbconvert_exporter": "python",
   "pygments_lexer": "ipython3",
   "version": "3.8.12"
  }
 },
 "nbformat": 4,
 "nbformat_minor": 5
}