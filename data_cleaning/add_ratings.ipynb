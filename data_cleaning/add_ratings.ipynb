{
 "cells": [
  {
   "cell_type": "code",
   "execution_count": 1,
   "metadata": {
    "collapsed": true
   },
   "outputs": [],
   "source": [
    "from services.scraping.scrape import get_data\n",
    "import pandas as pd"
   ]
  },
  {
   "cell_type": "code",
   "execution_count": 2,
   "outputs": [
    {
     "data": {
      "text/plain": "     id                                               name  host_id  \\\n0  2595                              Skylit Midtown Castle     2845   \n1  3831  Whole flr w/private bdrm, bath & kitchen(pls r...     4869   \n2  5121                                    BlissArtsSpace!     7356   \n3  5136           Spacious Brooklyn Duplex, Patio + Garden     7378   \n4  5178                   Large Furnished Room Near B'way　     8967   \n\n     host_name neighbourhood_group       neighbourhood  latitude  longitude  \\\n0     Jennifer           Manhattan             Midtown  40.75356  -73.98559   \n1  LisaRoxanne            Brooklyn  Bedford-Stuyvesant  40.68494  -73.95765   \n2        Garon            Brooklyn  Bedford-Stuyvesant  40.68535  -73.95512   \n3      Rebecca            Brooklyn         Sunset Park  40.66265  -73.99454   \n4     Shunichi           Manhattan             Midtown  40.76457  -73.98317   \n\n         room_type  price  minimum_nights  number_of_reviews last_review  \\\n0  Entire home/apt    150              30                 48  2019-11-04   \n1  Entire home/apt     75               1                409  2021-10-22   \n2     Private room     60              30                 50  2016-06-05   \n3  Entire home/apt    275               5                  2  2021-08-08   \n4     Private room     68               2                507  2021-11-08   \n\n   reviews_per_month  calculated_host_listings_count  availability_365  \\\n0               0.33                               3               338   \n1               4.86                               1               194   \n2               0.52                               2               365   \n3               0.02                               1               123   \n4               3.68                               1               192   \n\n   number_of_reviews_ltm  \n0                      0  \n1                     32  \n2                      0  \n3                      1  \n4                     33  ",
      "text/html": "<div>\n<style scoped>\n    .dataframe tbody tr th:only-of-type {\n        vertical-align: middle;\n    }\n\n    .dataframe tbody tr th {\n        vertical-align: top;\n    }\n\n    .dataframe thead th {\n        text-align: right;\n    }\n</style>\n<table border=\"1\" class=\"dataframe\">\n  <thead>\n    <tr style=\"text-align: right;\">\n      <th></th>\n      <th>id</th>\n      <th>name</th>\n      <th>host_id</th>\n      <th>host_name</th>\n      <th>neighbourhood_group</th>\n      <th>neighbourhood</th>\n      <th>latitude</th>\n      <th>longitude</th>\n      <th>room_type</th>\n      <th>price</th>\n      <th>minimum_nights</th>\n      <th>number_of_reviews</th>\n      <th>last_review</th>\n      <th>reviews_per_month</th>\n      <th>calculated_host_listings_count</th>\n      <th>availability_365</th>\n      <th>number_of_reviews_ltm</th>\n    </tr>\n  </thead>\n  <tbody>\n    <tr>\n      <th>0</th>\n      <td>2595</td>\n      <td>Skylit Midtown Castle</td>\n      <td>2845</td>\n      <td>Jennifer</td>\n      <td>Manhattan</td>\n      <td>Midtown</td>\n      <td>40.75356</td>\n      <td>-73.98559</td>\n      <td>Entire home/apt</td>\n      <td>150</td>\n      <td>30</td>\n      <td>48</td>\n      <td>2019-11-04</td>\n      <td>0.33</td>\n      <td>3</td>\n      <td>338</td>\n      <td>0</td>\n    </tr>\n    <tr>\n      <th>1</th>\n      <td>3831</td>\n      <td>Whole flr w/private bdrm, bath &amp; kitchen(pls r...</td>\n      <td>4869</td>\n      <td>LisaRoxanne</td>\n      <td>Brooklyn</td>\n      <td>Bedford-Stuyvesant</td>\n      <td>40.68494</td>\n      <td>-73.95765</td>\n      <td>Entire home/apt</td>\n      <td>75</td>\n      <td>1</td>\n      <td>409</td>\n      <td>2021-10-22</td>\n      <td>4.86</td>\n      <td>1</td>\n      <td>194</td>\n      <td>32</td>\n    </tr>\n    <tr>\n      <th>2</th>\n      <td>5121</td>\n      <td>BlissArtsSpace!</td>\n      <td>7356</td>\n      <td>Garon</td>\n      <td>Brooklyn</td>\n      <td>Bedford-Stuyvesant</td>\n      <td>40.68535</td>\n      <td>-73.95512</td>\n      <td>Private room</td>\n      <td>60</td>\n      <td>30</td>\n      <td>50</td>\n      <td>2016-06-05</td>\n      <td>0.52</td>\n      <td>2</td>\n      <td>365</td>\n      <td>0</td>\n    </tr>\n    <tr>\n      <th>3</th>\n      <td>5136</td>\n      <td>Spacious Brooklyn Duplex, Patio + Garden</td>\n      <td>7378</td>\n      <td>Rebecca</td>\n      <td>Brooklyn</td>\n      <td>Sunset Park</td>\n      <td>40.66265</td>\n      <td>-73.99454</td>\n      <td>Entire home/apt</td>\n      <td>275</td>\n      <td>5</td>\n      <td>2</td>\n      <td>2021-08-08</td>\n      <td>0.02</td>\n      <td>1</td>\n      <td>123</td>\n      <td>1</td>\n    </tr>\n    <tr>\n      <th>4</th>\n      <td>5178</td>\n      <td>Large Furnished Room Near B'way</td>\n      <td>8967</td>\n      <td>Shunichi</td>\n      <td>Manhattan</td>\n      <td>Midtown</td>\n      <td>40.76457</td>\n      <td>-73.98317</td>\n      <td>Private room</td>\n      <td>68</td>\n      <td>2</td>\n      <td>507</td>\n      <td>2021-11-08</td>\n      <td>3.68</td>\n      <td>1</td>\n      <td>192</td>\n      <td>33</td>\n    </tr>\n  </tbody>\n</table>\n</div>"
     },
     "execution_count": 2,
     "metadata": {},
     "output_type": "execute_result"
    }
   ],
   "source": [
    "df: pd.DataFrame = pd.read_csv('../data/New_York_Airbnb_4_dec_2021_cleaned.csv', sep=',', header=0)\n",
    "df.head()"
   ],
   "metadata": {
    "collapsed": false,
    "pycharm": {
     "name": "#%%\n"
    }
   }
  },
  {
   "cell_type": "code",
   "execution_count": null,
   "outputs": [],
   "source": [
    "df['rating'] = df.apply(lambda row: get_data(row['id'])['rating'], axis=1)"
   ],
   "metadata": {
    "collapsed": false,
    "pycharm": {
     "name": "#%%\n",
     "is_executing": true
    }
   }
  },
  {
   "cell_type": "code",
   "execution_count": null,
   "outputs": [],
   "source": [
    "df.head()"
   ],
   "metadata": {
    "collapsed": false,
    "pycharm": {
     "name": "#%%\n",
     "is_executing": true
    }
   }
  },
  {
   "cell_type": "code",
   "execution_count": null,
   "outputs": [],
   "source": [
    "df.to_csv('../data/New_York_Airbnb_4_dec_2021_cleaned_with_rating.csv', sep=',', index=False)"
   ],
   "metadata": {
    "collapsed": false,
    "pycharm": {
     "name": "#%%\n",
     "is_executing": true
    }
   }
  },
  {
   "cell_type": "code",
   "execution_count": null,
   "outputs": [],
   "source": [],
   "metadata": {
    "collapsed": false,
    "pycharm": {
     "name": "#%%\n"
    }
   }
  }
 ],
 "metadata": {
  "kernelspec": {
   "display_name": "Python 3",
   "language": "python",
   "name": "python3"
  },
  "language_info": {
   "codemirror_mode": {
    "name": "ipython",
    "version": 2
   },
   "file_extension": ".py",
   "mimetype": "text/x-python",
   "name": "python",
   "nbconvert_exporter": "python",
   "pygments_lexer": "ipython2",
   "version": "2.7.6"
  }
 },
 "nbformat": 4,
 "nbformat_minor": 0
}