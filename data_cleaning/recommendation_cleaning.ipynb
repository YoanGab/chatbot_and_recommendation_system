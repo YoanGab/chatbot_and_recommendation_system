{
 "cells": [
  {
   "cell_type": "markdown",
   "source": [
    "# **CHATBOT & RECOMMENDATION SYSTEMS**\n",
    "## ***FINAL PROJECT - AirBNB recommendation chatbot***\n",
    "*LEDUC Bastien, GABISON Yoan*"
   ],
   "metadata": {
    "collapsed": false
   }
  },
  {
   "cell_type": "code",
   "execution_count": 29,
   "outputs": [],
   "source": [
    "import pandas as pd"
   ],
   "metadata": {
    "collapsed": false,
    "pycharm": {
     "name": "#%%\n"
    }
   }
  },
  {
   "cell_type": "markdown",
   "source": [
    "### **Import data**"
   ],
   "metadata": {
    "collapsed": false
   }
  },
  {
   "cell_type": "code",
   "execution_count": 30,
   "outputs": [],
   "source": [
    "file_path = '../data/New_York_Airbnb_4_dec_2021_cleaned_with_rating_and_images.csv'\n",
    "df = pd.read_csv(file_path, sep=',', header=0)"
   ],
   "metadata": {
    "collapsed": false,
    "pycharm": {
     "name": "#%%\n"
    }
   }
  },
  {
   "cell_type": "code",
   "execution_count": 31,
   "outputs": [
    {
     "data": {
      "text/plain": "     id                                               name  host_id  \\\n0  2595                              Skylit Midtown Castle     2845   \n1  3831  Whole flr w/private bdrm, bath & kitchen(pls r...     4869   \n2  5121                                    BlissArtsSpace!     7356   \n3  5136           Spacious Brooklyn Duplex, Patio + Garden     7378   \n4  5178                   Large Furnished Room Near B'way　     8967   \n\n     host_name neighbourhood_group       neighbourhood  latitude  longitude  \\\n0     Jennifer           Manhattan             Midtown  40.75356  -73.98559   \n1  LisaRoxanne            Brooklyn  Bedford-Stuyvesant  40.68494  -73.95765   \n2        Garon            Brooklyn  Bedford-Stuyvesant  40.68535  -73.95512   \n3      Rebecca            Brooklyn         Sunset Park  40.66265  -73.99454   \n4     Shunichi           Manhattan             Midtown  40.76457  -73.98317   \n\n         room_type  price  minimum_nights  number_of_reviews last_review  \\\n0  Entire home/apt    150              30                 48  2019-11-04   \n1  Entire home/apt     75               1                409  2021-10-22   \n2     Private room     60              30                 50  2016-06-05   \n3  Entire home/apt    275               5                  2  2021-08-08   \n4     Private room     68               2                507  2021-11-08   \n\n   reviews_per_month  calculated_host_listings_count  availability_365  \\\n0               0.33                               3               338   \n1               4.86                               1               194   \n2               0.52                               2               365   \n3               0.02                               1               123   \n4               3.68                               1               192   \n\n   number_of_reviews_ltm  rating  \\\n0                      0    4.70   \n1                     32     NaN   \n2                      0    4.52   \n3                      1     NaN   \n4                     33    4.22   \n\n                                              images  \n0  https://a0.muscache.com/im/pictures/f0813a11-4...  \n1                                                NaN  \n2  https://a0.muscache.com/im/pictures/2090980c-b...  \n3                                                NaN  \n4  https://a0.muscache.com/im/pictures/12065/f070...  ",
      "text/html": "<div>\n<style scoped>\n    .dataframe tbody tr th:only-of-type {\n        vertical-align: middle;\n    }\n\n    .dataframe tbody tr th {\n        vertical-align: top;\n    }\n\n    .dataframe thead th {\n        text-align: right;\n    }\n</style>\n<table border=\"1\" class=\"dataframe\">\n  <thead>\n    <tr style=\"text-align: right;\">\n      <th></th>\n      <th>id</th>\n      <th>name</th>\n      <th>host_id</th>\n      <th>host_name</th>\n      <th>neighbourhood_group</th>\n      <th>neighbourhood</th>\n      <th>latitude</th>\n      <th>longitude</th>\n      <th>room_type</th>\n      <th>price</th>\n      <th>minimum_nights</th>\n      <th>number_of_reviews</th>\n      <th>last_review</th>\n      <th>reviews_per_month</th>\n      <th>calculated_host_listings_count</th>\n      <th>availability_365</th>\n      <th>number_of_reviews_ltm</th>\n      <th>rating</th>\n      <th>images</th>\n    </tr>\n  </thead>\n  <tbody>\n    <tr>\n      <th>0</th>\n      <td>2595</td>\n      <td>Skylit Midtown Castle</td>\n      <td>2845</td>\n      <td>Jennifer</td>\n      <td>Manhattan</td>\n      <td>Midtown</td>\n      <td>40.75356</td>\n      <td>-73.98559</td>\n      <td>Entire home/apt</td>\n      <td>150</td>\n      <td>30</td>\n      <td>48</td>\n      <td>2019-11-04</td>\n      <td>0.33</td>\n      <td>3</td>\n      <td>338</td>\n      <td>0</td>\n      <td>4.70</td>\n      <td>https://a0.muscache.com/im/pictures/f0813a11-4...</td>\n    </tr>\n    <tr>\n      <th>1</th>\n      <td>3831</td>\n      <td>Whole flr w/private bdrm, bath &amp; kitchen(pls r...</td>\n      <td>4869</td>\n      <td>LisaRoxanne</td>\n      <td>Brooklyn</td>\n      <td>Bedford-Stuyvesant</td>\n      <td>40.68494</td>\n      <td>-73.95765</td>\n      <td>Entire home/apt</td>\n      <td>75</td>\n      <td>1</td>\n      <td>409</td>\n      <td>2021-10-22</td>\n      <td>4.86</td>\n      <td>1</td>\n      <td>194</td>\n      <td>32</td>\n      <td>NaN</td>\n      <td>NaN</td>\n    </tr>\n    <tr>\n      <th>2</th>\n      <td>5121</td>\n      <td>BlissArtsSpace!</td>\n      <td>7356</td>\n      <td>Garon</td>\n      <td>Brooklyn</td>\n      <td>Bedford-Stuyvesant</td>\n      <td>40.68535</td>\n      <td>-73.95512</td>\n      <td>Private room</td>\n      <td>60</td>\n      <td>30</td>\n      <td>50</td>\n      <td>2016-06-05</td>\n      <td>0.52</td>\n      <td>2</td>\n      <td>365</td>\n      <td>0</td>\n      <td>4.52</td>\n      <td>https://a0.muscache.com/im/pictures/2090980c-b...</td>\n    </tr>\n    <tr>\n      <th>3</th>\n      <td>5136</td>\n      <td>Spacious Brooklyn Duplex, Patio + Garden</td>\n      <td>7378</td>\n      <td>Rebecca</td>\n      <td>Brooklyn</td>\n      <td>Sunset Park</td>\n      <td>40.66265</td>\n      <td>-73.99454</td>\n      <td>Entire home/apt</td>\n      <td>275</td>\n      <td>5</td>\n      <td>2</td>\n      <td>2021-08-08</td>\n      <td>0.02</td>\n      <td>1</td>\n      <td>123</td>\n      <td>1</td>\n      <td>NaN</td>\n      <td>NaN</td>\n    </tr>\n    <tr>\n      <th>4</th>\n      <td>5178</td>\n      <td>Large Furnished Room Near B'way</td>\n      <td>8967</td>\n      <td>Shunichi</td>\n      <td>Manhattan</td>\n      <td>Midtown</td>\n      <td>40.76457</td>\n      <td>-73.98317</td>\n      <td>Private room</td>\n      <td>68</td>\n      <td>2</td>\n      <td>507</td>\n      <td>2021-11-08</td>\n      <td>3.68</td>\n      <td>1</td>\n      <td>192</td>\n      <td>33</td>\n      <td>4.22</td>\n      <td>https://a0.muscache.com/im/pictures/12065/f070...</td>\n    </tr>\n  </tbody>\n</table>\n</div>"
     },
     "execution_count": 31,
     "metadata": {},
     "output_type": "execute_result"
    }
   ],
   "source": [
    "df.head()"
   ],
   "metadata": {
    "collapsed": false,
    "pycharm": {
     "name": "#%%\n"
    }
   }
  },
  {
   "cell_type": "code",
   "execution_count": 32,
   "outputs": [
    {
     "data": {
      "text/plain": "(28747, 19)"
     },
     "execution_count": 32,
     "metadata": {},
     "output_type": "execute_result"
    }
   ],
   "source": [
    "df.shape"
   ],
   "metadata": {
    "collapsed": false,
    "pycharm": {
     "name": "#%%\n"
    }
   }
  },
  {
   "cell_type": "code",
   "execution_count": 33,
   "outputs": [
    {
     "data": {
      "text/plain": "Index(['id', 'name', 'host_id', 'host_name', 'neighbourhood_group',\n       'neighbourhood', 'latitude', 'longitude', 'room_type', 'price',\n       'minimum_nights', 'number_of_reviews', 'last_review',\n       'reviews_per_month', 'calculated_host_listings_count',\n       'availability_365', 'number_of_reviews_ltm', 'rating', 'images'],\n      dtype='object')"
     },
     "execution_count": 33,
     "metadata": {},
     "output_type": "execute_result"
    }
   ],
   "source": [
    "df.columns"
   ],
   "metadata": {
    "collapsed": false,
    "pycharm": {
     "name": "#%%\n"
    }
   }
  },
  {
   "cell_type": "markdown",
   "source": [
    "### **Data cleaning**"
   ],
   "metadata": {
    "collapsed": false
   }
  },
  {
   "cell_type": "code",
   "execution_count": 34,
   "outputs": [],
   "source": [
    "# Will drop columns of the dataset\n",
    "def drop_cols(dataset: pd.DataFrame, columns_to_drop: list) -> None:\n",
    "    dataset.drop(columns_to_drop, axis=1, inplace=True)"
   ],
   "metadata": {
    "collapsed": false,
    "pycharm": {
     "name": "#%%\n"
    }
   }
  },
  {
   "cell_type": "code",
   "execution_count": 35,
   "outputs": [],
   "source": [
    "# We remove the irrelevant columns from the dataset for our recommendation system\n",
    "# clean_data: pd.DataFrame = df.copy()\n",
    "#Add the cols you wish to drop\n",
    "cols_to_drop: list = ['host_id', 'host_name', 'latitude', 'longitude', 'number_of_reviews', 'last_review',\n",
    "                'number_of_reviews_ltm', 'calculated_host_listings_count', 'reviews_per_month']\n",
    "drop_cols(dataset=df, columns_to_drop=cols_to_drop)"
   ],
   "metadata": {
    "collapsed": false,
    "pycharm": {
     "name": "#%%\n"
    }
   }
  },
  {
   "cell_type": "code",
   "execution_count": 36,
   "outputs": [
    {
     "data": {
      "text/plain": "['rating', 'images']"
     },
     "execution_count": 36,
     "metadata": {},
     "output_type": "execute_result"
    }
   ],
   "source": [
    "col_nan: list = [col for col in df.columns if df[col].isna().sum() > 0]\n",
    "col_nan"
   ],
   "metadata": {
    "collapsed": false,
    "pycharm": {
     "name": "#%%\n"
    }
   }
  },
  {
   "cell_type": "code",
   "execution_count": 37,
   "outputs": [],
   "source": [
    "# We drop all rows with missing values\n",
    "df.dropna(axis=0, subset=col_nan, inplace=True)"
   ],
   "metadata": {
    "collapsed": false,
    "pycharm": {
     "name": "#%%\n"
    }
   }
  },
  {
   "cell_type": "code",
   "execution_count": 38,
   "outputs": [
    {
     "data": {
      "text/plain": "     id                                            name neighbourhood_group  \\\n0  2595                           Skylit Midtown Castle           Manhattan   \n2  5121                                 BlissArtsSpace!            Brooklyn   \n4  5178                Large Furnished Room Near B'way　           Manhattan   \n5  5203              Cozy Clean Guest Room - Family Apt           Manhattan   \n6  5803  Lovely Room 1, Garden, Best Area, Legal rental            Brooklyn   \n\n        neighbourhood        room_type  price  minimum_nights  \\\n0             Midtown  Entire home/apt    150              30   \n2  Bedford-Stuyvesant     Private room     60              30   \n4             Midtown     Private room     68               2   \n5     Upper West Side     Private room     75               2   \n6         South Slope     Private room     98               4   \n\n   availability_365  rating                                             images  \n0               338    4.70  https://a0.muscache.com/im/pictures/f0813a11-4...  \n2               365    4.52  https://a0.muscache.com/im/pictures/2090980c-b...  \n4               192    4.22  https://a0.muscache.com/im/pictures/12065/f070...  \n5                 0    4.91  https://a0.muscache.com/im/pictures/103776/b37...  \n6               322    4.70  https://a0.muscache.com/im/pictures/2884180/f1...  ",
      "text/html": "<div>\n<style scoped>\n    .dataframe tbody tr th:only-of-type {\n        vertical-align: middle;\n    }\n\n    .dataframe tbody tr th {\n        vertical-align: top;\n    }\n\n    .dataframe thead th {\n        text-align: right;\n    }\n</style>\n<table border=\"1\" class=\"dataframe\">\n  <thead>\n    <tr style=\"text-align: right;\">\n      <th></th>\n      <th>id</th>\n      <th>name</th>\n      <th>neighbourhood_group</th>\n      <th>neighbourhood</th>\n      <th>room_type</th>\n      <th>price</th>\n      <th>minimum_nights</th>\n      <th>availability_365</th>\n      <th>rating</th>\n      <th>images</th>\n    </tr>\n  </thead>\n  <tbody>\n    <tr>\n      <th>0</th>\n      <td>2595</td>\n      <td>Skylit Midtown Castle</td>\n      <td>Manhattan</td>\n      <td>Midtown</td>\n      <td>Entire home/apt</td>\n      <td>150</td>\n      <td>30</td>\n      <td>338</td>\n      <td>4.70</td>\n      <td>https://a0.muscache.com/im/pictures/f0813a11-4...</td>\n    </tr>\n    <tr>\n      <th>2</th>\n      <td>5121</td>\n      <td>BlissArtsSpace!</td>\n      <td>Brooklyn</td>\n      <td>Bedford-Stuyvesant</td>\n      <td>Private room</td>\n      <td>60</td>\n      <td>30</td>\n      <td>365</td>\n      <td>4.52</td>\n      <td>https://a0.muscache.com/im/pictures/2090980c-b...</td>\n    </tr>\n    <tr>\n      <th>4</th>\n      <td>5178</td>\n      <td>Large Furnished Room Near B'way</td>\n      <td>Manhattan</td>\n      <td>Midtown</td>\n      <td>Private room</td>\n      <td>68</td>\n      <td>2</td>\n      <td>192</td>\n      <td>4.22</td>\n      <td>https://a0.muscache.com/im/pictures/12065/f070...</td>\n    </tr>\n    <tr>\n      <th>5</th>\n      <td>5203</td>\n      <td>Cozy Clean Guest Room - Family Apt</td>\n      <td>Manhattan</td>\n      <td>Upper West Side</td>\n      <td>Private room</td>\n      <td>75</td>\n      <td>2</td>\n      <td>0</td>\n      <td>4.91</td>\n      <td>https://a0.muscache.com/im/pictures/103776/b37...</td>\n    </tr>\n    <tr>\n      <th>6</th>\n      <td>5803</td>\n      <td>Lovely Room 1, Garden, Best Area, Legal rental</td>\n      <td>Brooklyn</td>\n      <td>South Slope</td>\n      <td>Private room</td>\n      <td>98</td>\n      <td>4</td>\n      <td>322</td>\n      <td>4.70</td>\n      <td>https://a0.muscache.com/im/pictures/2884180/f1...</td>\n    </tr>\n  </tbody>\n</table>\n</div>"
     },
     "execution_count": 38,
     "metadata": {},
     "output_type": "execute_result"
    }
   ],
   "source": [
    "df.head()"
   ],
   "metadata": {
    "collapsed": false,
    "pycharm": {
     "name": "#%%\n"
    }
   }
  },
  {
   "cell_type": "code",
   "execution_count": 39,
   "outputs": [
    {
     "data": {
      "text/plain": "(20457, 10)"
     },
     "execution_count": 39,
     "metadata": {},
     "output_type": "execute_result"
    }
   ],
   "source": [
    "df.shape"
   ],
   "metadata": {
    "collapsed": false,
    "pycharm": {
     "name": "#%%\n"
    }
   }
  },
  {
   "cell_type": "code",
   "execution_count": 40,
   "outputs": [
    {
     "data": {
      "text/plain": "False"
     },
     "execution_count": 40,
     "metadata": {},
     "output_type": "execute_result"
    }
   ],
   "source": [
    "# The cleaned dataset has no more null values\n",
    "df.isnull().values.any()"
   ],
   "metadata": {
    "collapsed": false,
    "pycharm": {
     "name": "#%%\n"
    }
   }
  },
  {
   "cell_type": "markdown",
   "source": [
    "### **Adding categorical features from numerical features**"
   ],
   "metadata": {
    "collapsed": false
   }
  },
  {
   "cell_type": "markdown",
   "source": [
    "In order to use numerical features into our recommendation system, we need to turn them into categorical features. To do so, we created categorical-valued columns that will contains ranges based on the numerical values (eg: a room priced at 120$ will be in the 100-149$ price category)."
   ],
   "metadata": {
    "collapsed": false
   }
  },
  {
   "cell_type": "code",
   "execution_count": 41,
   "outputs": [],
   "source": [
    "# clean_data_to_encode: pd.DataFrame = clean_data.copy()"
   ],
   "metadata": {
    "collapsed": false,
    "pycharm": {
     "name": "#%%\n"
    }
   }
  },
  {
   "cell_type": "code",
   "execution_count": 42,
   "outputs": [],
   "source": [
    "def add_range_feature(dataset: pd.DataFrame, col_source: str, col_dest: str, range_values: list) -> None:\n",
    "    \"\"\"\n",
    "    Creates categorical columns from numerical ones.\n",
    "    :param dataset: the dataframe to transform\n",
    "    :param col_source: the numerical column to transform\n",
    "    :param col_dest: the new created categorical column\n",
    "    :param range_values: the ranges of the categorical values\n",
    "    :return: nothing but the transformed dataframe\n",
    "    \"\"\"\n",
    "    for index, row in dataset.iterrows():\n",
    "        for rv in range_values:\n",
    "            b_inf, b_sup = int(rv.split(sep='-')[0]), int(rv.split(sep='-')[1])\n",
    "            if b_inf <= row[col_source] <= b_sup:\n",
    "                df.at[index, col_dest] = rv\n",
    "                break"
   ],
   "metadata": {
    "collapsed": false,
    "pycharm": {
     "name": "#%%\n"
    }
   }
  },
  {
   "cell_type": "markdown",
   "source": [
    "#### Add a price_range feature"
   ],
   "metadata": {
    "collapsed": false
   }
  },
  {
   "cell_type": "code",
   "execution_count": 43,
   "outputs": [
    {
     "data": {
      "text/plain": "['0-49',\n '50-99',\n '100-149',\n '150-199',\n '200-249',\n '250-299',\n '300-349',\n '350-399',\n '400-449',\n '450-499',\n '500-549',\n '550-599',\n '600-649',\n '650-699',\n '700-799',\n '800-899',\n '900-999',\n '1000-1499',\n '1500-1999',\n '2000-2499',\n '2500-10000']"
     },
     "execution_count": 43,
     "metadata": {},
     "output_type": "execute_result"
    }
   ],
   "source": [
    "price_range = [f'{i}-{i + 49}' for i in range(0, 700, 50)] + [f'{i}-{i + 99}' for i in range(700, 1000, 100)] + [\n",
    "    f'{i}-{i + 499}' for i in range(1000, 2500, 500)] + ['2500-10000']\n",
    "price_range"
   ],
   "metadata": {
    "collapsed": false,
    "pycharm": {
     "name": "#%%\n"
    }
   }
  },
  {
   "cell_type": "code",
   "execution_count": 44,
   "outputs": [],
   "source": [
    "# Adding the price_range to the dataset\n",
    "add_range_feature(df, col_source='price', col_dest='price_range', range_values=price_range)"
   ],
   "metadata": {
    "collapsed": false,
    "pycharm": {
     "name": "#%%\n"
    }
   }
  },
  {
   "cell_type": "markdown",
   "source": [
    "#### Add a minimum_nights_range feature"
   ],
   "metadata": {
    "collapsed": false
   }
  },
  {
   "cell_type": "code",
   "execution_count": 45,
   "outputs": [
    {
     "data": {
      "text/plain": "['1-10',\n '11-20',\n '21-30',\n '31-40',\n '41-50',\n '51-60',\n '61-70',\n '71-80',\n '81-90',\n '91-100',\n '101-150',\n '151-200',\n '201-250',\n '251-300',\n '301-350',\n '351-400',\n '401-1124']"
     },
     "execution_count": 45,
     "metadata": {},
     "output_type": "execute_result"
    }
   ],
   "source": [
    "min_nights_range = [f'{i}-{i + 9}' for i in range(1, 100, 10)] + [f'{i}-{i + 49}' for i in range(101, 400, 50)] + [\n",
    "    '401-1124']\n",
    "min_nights_range"
   ],
   "metadata": {
    "collapsed": false,
    "pycharm": {
     "name": "#%%\n"
    }
   }
  },
  {
   "cell_type": "code",
   "execution_count": 46,
   "outputs": [],
   "source": [
    "# Adding the minimum_nights_range to the dataset\n",
    "add_range_feature(df, col_source='minimum_nights', col_dest='min_nights_range',\n",
    "                  range_values=min_nights_range)"
   ],
   "metadata": {
    "collapsed": false,
    "pycharm": {
     "name": "#%%\n"
    }
   }
  },
  {
   "cell_type": "markdown",
   "source": [
    "#### Add an availability_365_range feature"
   ],
   "metadata": {
    "collapsed": false
   }
  },
  {
   "cell_type": "code",
   "execution_count": 47,
   "outputs": [
    {
     "data": {
      "text/plain": "['1-30',\n '31-60',\n '61-90',\n '91-120',\n '121-150',\n '151-180',\n '181-210',\n '211-240',\n '241-270',\n '271-300',\n '301-330',\n '331-365']"
     },
     "execution_count": 47,
     "metadata": {},
     "output_type": "execute_result"
    }
   ],
   "source": [
    "availability_365_range = [f'{i}-{i + 29}' for i in range(1, 330, 30)] + ['331-365']\n",
    "availability_365_range"
   ],
   "metadata": {
    "collapsed": false,
    "pycharm": {
     "name": "#%%\n"
    }
   }
  },
  {
   "cell_type": "code",
   "execution_count": 48,
   "outputs": [],
   "source": [
    "# Adding the availability_365_range to the dataset\n",
    "add_range_feature(df, col_source='availability_365', col_dest='availability_365_range',\n",
    "                  range_values=availability_365_range)"
   ],
   "metadata": {
    "collapsed": false,
    "pycharm": {
     "name": "#%%\n"
    }
   }
  },
  {
   "cell_type": "code",
   "execution_count": 49,
   "outputs": [],
   "source": [
    "# We keep the real price of the room and the minimum nights for filtering but we remove the availability_365 we categorized.\n",
    "cols_to_drop = ['availability_365']\n",
    "drop_cols(df, cols_to_drop)"
   ],
   "metadata": {
    "collapsed": false,
    "pycharm": {
     "name": "#%%\n"
    }
   }
  },
  {
   "cell_type": "code",
   "execution_count": 50,
   "outputs": [
    {
     "data": {
      "text/plain": "     id                                            name neighbourhood_group  \\\n0  2595                           Skylit Midtown Castle           Manhattan   \n2  5121                                 BlissArtsSpace!            Brooklyn   \n4  5178                Large Furnished Room Near B'way　           Manhattan   \n5  5203              Cozy Clean Guest Room - Family Apt           Manhattan   \n6  5803  Lovely Room 1, Garden, Best Area, Legal rental            Brooklyn   \n\n        neighbourhood        room_type  price  minimum_nights  rating  \\\n0             Midtown  Entire home/apt    150              30    4.70   \n2  Bedford-Stuyvesant     Private room     60              30    4.52   \n4             Midtown     Private room     68               2    4.22   \n5     Upper West Side     Private room     75               2    4.91   \n6         South Slope     Private room     98               4    4.70   \n\n                                              images price_range  \\\n0  https://a0.muscache.com/im/pictures/f0813a11-4...     150-199   \n2  https://a0.muscache.com/im/pictures/2090980c-b...       50-99   \n4  https://a0.muscache.com/im/pictures/12065/f070...       50-99   \n5  https://a0.muscache.com/im/pictures/103776/b37...       50-99   \n6  https://a0.muscache.com/im/pictures/2884180/f1...       50-99   \n\n  min_nights_range availability_365_range  \n0            21-30                331-365  \n2            21-30                331-365  \n4             1-10                181-210  \n5             1-10                    NaN  \n6             1-10                301-330  ",
      "text/html": "<div>\n<style scoped>\n    .dataframe tbody tr th:only-of-type {\n        vertical-align: middle;\n    }\n\n    .dataframe tbody tr th {\n        vertical-align: top;\n    }\n\n    .dataframe thead th {\n        text-align: right;\n    }\n</style>\n<table border=\"1\" class=\"dataframe\">\n  <thead>\n    <tr style=\"text-align: right;\">\n      <th></th>\n      <th>id</th>\n      <th>name</th>\n      <th>neighbourhood_group</th>\n      <th>neighbourhood</th>\n      <th>room_type</th>\n      <th>price</th>\n      <th>minimum_nights</th>\n      <th>rating</th>\n      <th>images</th>\n      <th>price_range</th>\n      <th>min_nights_range</th>\n      <th>availability_365_range</th>\n    </tr>\n  </thead>\n  <tbody>\n    <tr>\n      <th>0</th>\n      <td>2595</td>\n      <td>Skylit Midtown Castle</td>\n      <td>Manhattan</td>\n      <td>Midtown</td>\n      <td>Entire home/apt</td>\n      <td>150</td>\n      <td>30</td>\n      <td>4.70</td>\n      <td>https://a0.muscache.com/im/pictures/f0813a11-4...</td>\n      <td>150-199</td>\n      <td>21-30</td>\n      <td>331-365</td>\n    </tr>\n    <tr>\n      <th>2</th>\n      <td>5121</td>\n      <td>BlissArtsSpace!</td>\n      <td>Brooklyn</td>\n      <td>Bedford-Stuyvesant</td>\n      <td>Private room</td>\n      <td>60</td>\n      <td>30</td>\n      <td>4.52</td>\n      <td>https://a0.muscache.com/im/pictures/2090980c-b...</td>\n      <td>50-99</td>\n      <td>21-30</td>\n      <td>331-365</td>\n    </tr>\n    <tr>\n      <th>4</th>\n      <td>5178</td>\n      <td>Large Furnished Room Near B'way</td>\n      <td>Manhattan</td>\n      <td>Midtown</td>\n      <td>Private room</td>\n      <td>68</td>\n      <td>2</td>\n      <td>4.22</td>\n      <td>https://a0.muscache.com/im/pictures/12065/f070...</td>\n      <td>50-99</td>\n      <td>1-10</td>\n      <td>181-210</td>\n    </tr>\n    <tr>\n      <th>5</th>\n      <td>5203</td>\n      <td>Cozy Clean Guest Room - Family Apt</td>\n      <td>Manhattan</td>\n      <td>Upper West Side</td>\n      <td>Private room</td>\n      <td>75</td>\n      <td>2</td>\n      <td>4.91</td>\n      <td>https://a0.muscache.com/im/pictures/103776/b37...</td>\n      <td>50-99</td>\n      <td>1-10</td>\n      <td>NaN</td>\n    </tr>\n    <tr>\n      <th>6</th>\n      <td>5803</td>\n      <td>Lovely Room 1, Garden, Best Area, Legal rental</td>\n      <td>Brooklyn</td>\n      <td>South Slope</td>\n      <td>Private room</td>\n      <td>98</td>\n      <td>4</td>\n      <td>4.70</td>\n      <td>https://a0.muscache.com/im/pictures/2884180/f1...</td>\n      <td>50-99</td>\n      <td>1-10</td>\n      <td>301-330</td>\n    </tr>\n  </tbody>\n</table>\n</div>"
     },
     "execution_count": 50,
     "metadata": {},
     "output_type": "execute_result"
    }
   ],
   "source": [
    "df.head()"
   ],
   "metadata": {
    "collapsed": false,
    "pycharm": {
     "name": "#%%\n"
    }
   }
  },
  {
   "cell_type": "markdown",
   "source": [
    "### **One-hot encode categorical features**\n",
    "#### *neighbourhood_group, neighbourhood, room_type, price_range, min_nights_range, availability_365_range*"
   ],
   "metadata": {
    "collapsed": false
   }
  },
  {
   "cell_type": "code",
   "execution_count": 51,
   "outputs": [],
   "source": [
    "def encode_and_bind(original_dataframe: pd.DataFrame, feature_to_encode: str) -> pd.DataFrame:\n",
    "    \"\"\"\n",
    "    One-hot encode the selected categorical features from the dataset.\n",
    "    :param original_dataframe: dataframe\n",
    "    :param feature_to_encode: list of all the features to encode\n",
    "    :return: the new dataframe resulting from the one-hot encoding with the features to encode deleted from the dataframe\n",
    "    \"\"\"\n",
    "    dummies = pd.get_dummies(original_dataframe[feature_to_encode])\n",
    "    df: pd.DataFrame = pd.concat([original_dataframe, dummies], axis=1)\n",
    "    df = df.drop([feature_to_encode], axis=1)\n",
    "    return df"
   ],
   "metadata": {
    "collapsed": false,
    "pycharm": {
     "name": "#%%\n"
    }
   }
  },
  {
   "cell_type": "code",
   "execution_count": 52,
   "outputs": [],
   "source": [
    "features_to_encode = ['neighbourhood_group', 'room_type', 'neighbourhood', 'price_range', 'min_nights_range',\n",
    "                      'availability_365_range']\n",
    "# room_profiles = clean_data_to_encode.copy()\n",
    "for feature in features_to_encode:\n",
    "    df = encode_and_bind(df, feature)"
   ],
   "metadata": {
    "collapsed": false,
    "pycharm": {
     "name": "#%%\n"
    }
   }
  },
  {
   "cell_type": "code",
   "execution_count": 53,
   "outputs": [
    {
     "data": {
      "text/plain": "     id                                            name  price  \\\n0  2595                           Skylit Midtown Castle    150   \n2  5121                                 BlissArtsSpace!     60   \n4  5178                Large Furnished Room Near B'way　     68   \n5  5203              Cozy Clean Guest Room - Family Apt     75   \n6  5803  Lovely Room 1, Garden, Best Area, Legal rental     98   \n\n   minimum_nights  rating                                             images  \\\n0              30    4.70  https://a0.muscache.com/im/pictures/f0813a11-4...   \n2              30    4.52  https://a0.muscache.com/im/pictures/2090980c-b...   \n4               2    4.22  https://a0.muscache.com/im/pictures/12065/f070...   \n5               2    4.91  https://a0.muscache.com/im/pictures/103776/b37...   \n6               4    4.70  https://a0.muscache.com/im/pictures/2884180/f1...   \n\n   Bronx  Brooklyn  Manhattan  Queens  ...  151-180  181-210  211-240  \\\n0      0         0          1       0  ...        0        0        0   \n2      0         1          0       0  ...        0        0        0   \n4      0         0          1       0  ...        0        1        0   \n5      0         0          1       0  ...        0        0        0   \n6      0         1          0       0  ...        0        0        0   \n\n   241-270  271-300  301-330  31-60  331-365  61-90  91-120  \n0        0        0        0      0        1      0       0  \n2        0        0        0      0        1      0       0  \n4        0        0        0      0        0      0       0  \n5        0        0        0      0        0      0       0  \n6        0        0        1      0        0      0       0  \n\n[5 rows x 285 columns]",
      "text/html": "<div>\n<style scoped>\n    .dataframe tbody tr th:only-of-type {\n        vertical-align: middle;\n    }\n\n    .dataframe tbody tr th {\n        vertical-align: top;\n    }\n\n    .dataframe thead th {\n        text-align: right;\n    }\n</style>\n<table border=\"1\" class=\"dataframe\">\n  <thead>\n    <tr style=\"text-align: right;\">\n      <th></th>\n      <th>id</th>\n      <th>name</th>\n      <th>price</th>\n      <th>minimum_nights</th>\n      <th>rating</th>\n      <th>images</th>\n      <th>Bronx</th>\n      <th>Brooklyn</th>\n      <th>Manhattan</th>\n      <th>Queens</th>\n      <th>...</th>\n      <th>151-180</th>\n      <th>181-210</th>\n      <th>211-240</th>\n      <th>241-270</th>\n      <th>271-300</th>\n      <th>301-330</th>\n      <th>31-60</th>\n      <th>331-365</th>\n      <th>61-90</th>\n      <th>91-120</th>\n    </tr>\n  </thead>\n  <tbody>\n    <tr>\n      <th>0</th>\n      <td>2595</td>\n      <td>Skylit Midtown Castle</td>\n      <td>150</td>\n      <td>30</td>\n      <td>4.70</td>\n      <td>https://a0.muscache.com/im/pictures/f0813a11-4...</td>\n      <td>0</td>\n      <td>0</td>\n      <td>1</td>\n      <td>0</td>\n      <td>...</td>\n      <td>0</td>\n      <td>0</td>\n      <td>0</td>\n      <td>0</td>\n      <td>0</td>\n      <td>0</td>\n      <td>0</td>\n      <td>1</td>\n      <td>0</td>\n      <td>0</td>\n    </tr>\n    <tr>\n      <th>2</th>\n      <td>5121</td>\n      <td>BlissArtsSpace!</td>\n      <td>60</td>\n      <td>30</td>\n      <td>4.52</td>\n      <td>https://a0.muscache.com/im/pictures/2090980c-b...</td>\n      <td>0</td>\n      <td>1</td>\n      <td>0</td>\n      <td>0</td>\n      <td>...</td>\n      <td>0</td>\n      <td>0</td>\n      <td>0</td>\n      <td>0</td>\n      <td>0</td>\n      <td>0</td>\n      <td>0</td>\n      <td>1</td>\n      <td>0</td>\n      <td>0</td>\n    </tr>\n    <tr>\n      <th>4</th>\n      <td>5178</td>\n      <td>Large Furnished Room Near B'way</td>\n      <td>68</td>\n      <td>2</td>\n      <td>4.22</td>\n      <td>https://a0.muscache.com/im/pictures/12065/f070...</td>\n      <td>0</td>\n      <td>0</td>\n      <td>1</td>\n      <td>0</td>\n      <td>...</td>\n      <td>0</td>\n      <td>1</td>\n      <td>0</td>\n      <td>0</td>\n      <td>0</td>\n      <td>0</td>\n      <td>0</td>\n      <td>0</td>\n      <td>0</td>\n      <td>0</td>\n    </tr>\n    <tr>\n      <th>5</th>\n      <td>5203</td>\n      <td>Cozy Clean Guest Room - Family Apt</td>\n      <td>75</td>\n      <td>2</td>\n      <td>4.91</td>\n      <td>https://a0.muscache.com/im/pictures/103776/b37...</td>\n      <td>0</td>\n      <td>0</td>\n      <td>1</td>\n      <td>0</td>\n      <td>...</td>\n      <td>0</td>\n      <td>0</td>\n      <td>0</td>\n      <td>0</td>\n      <td>0</td>\n      <td>0</td>\n      <td>0</td>\n      <td>0</td>\n      <td>0</td>\n      <td>0</td>\n    </tr>\n    <tr>\n      <th>6</th>\n      <td>5803</td>\n      <td>Lovely Room 1, Garden, Best Area, Legal rental</td>\n      <td>98</td>\n      <td>4</td>\n      <td>4.70</td>\n      <td>https://a0.muscache.com/im/pictures/2884180/f1...</td>\n      <td>0</td>\n      <td>1</td>\n      <td>0</td>\n      <td>0</td>\n      <td>...</td>\n      <td>0</td>\n      <td>0</td>\n      <td>0</td>\n      <td>0</td>\n      <td>0</td>\n      <td>1</td>\n      <td>0</td>\n      <td>0</td>\n      <td>0</td>\n      <td>0</td>\n    </tr>\n  </tbody>\n</table>\n<p>5 rows × 285 columns</p>\n</div>"
     },
     "execution_count": 53,
     "metadata": {},
     "output_type": "execute_result"
    }
   ],
   "source": [
    "# We obtain here the room profiles we are going to use for our recommendation and for creating our user profile.\n",
    "df.head()"
   ],
   "metadata": {
    "collapsed": false,
    "pycharm": {
     "name": "#%%\n"
    }
   }
  },
  {
   "cell_type": "code",
   "execution_count": 54,
   "outputs": [
    {
     "data": {
      "text/plain": "       Bronx  Brooklyn  Manhattan  Queens  Staten Island  Entire home/apt  \\\n0          0         0          1       0              0                1   \n2          0         1          0       0              0                0   \n4          0         0          1       0              0                0   \n5          0         0          1       0              0                0   \n6          0         1          0       0              0                0   \n...      ...       ...        ...     ...            ...              ...   \n28738      0         1          0       0              0                0   \n28739      0         1          0       0              0                0   \n28741      0         0          1       0              0                0   \n28742      0         0          0       1              0                0   \n28745      0         1          0       0              0                1   \n\n       Hotel room  Private room  Shared room  Allerton  ...  151-180  181-210  \\\n0               0             0            0         0  ...        0        0   \n2               0             1            0         0  ...        0        0   \n4               0             1            0         0  ...        0        1   \n5               0             1            0         0  ...        0        0   \n6               0             1            0         0  ...        0        0   \n...           ...           ...          ...       ...  ...      ...      ...   \n28738           0             1            0         0  ...        1        0   \n28739           0             1            0         0  ...        1        0   \n28741           0             1            0         0  ...        1        0   \n28742           0             1            0         0  ...        0        0   \n28745           0             0            0         0  ...        0        0   \n\n       211-240  241-270  271-300  301-330  31-60  331-365  61-90  91-120  \n0            0        0        0        0      0        1      0       0  \n2            0        0        0        0      0        1      0       0  \n4            0        0        0        0      0        0      0       0  \n5            0        0        0        0      0        0      0       0  \n6            0        0        0        1      0        0      0       0  \n...        ...      ...      ...      ...    ...      ...    ...     ...  \n28738        0        0        0        0      0        0      0       0  \n28739        0        0        0        0      0        0      0       0  \n28741        0        0        0        0      0        0      0       0  \n28742        0        0        0        0      0        1      0       0  \n28745        0        0        0        0      0        0      1       0  \n\n[20457 rows x 279 columns]",
      "text/html": "<div>\n<style scoped>\n    .dataframe tbody tr th:only-of-type {\n        vertical-align: middle;\n    }\n\n    .dataframe tbody tr th {\n        vertical-align: top;\n    }\n\n    .dataframe thead th {\n        text-align: right;\n    }\n</style>\n<table border=\"1\" class=\"dataframe\">\n  <thead>\n    <tr style=\"text-align: right;\">\n      <th></th>\n      <th>Bronx</th>\n      <th>Brooklyn</th>\n      <th>Manhattan</th>\n      <th>Queens</th>\n      <th>Staten Island</th>\n      <th>Entire home/apt</th>\n      <th>Hotel room</th>\n      <th>Private room</th>\n      <th>Shared room</th>\n      <th>Allerton</th>\n      <th>...</th>\n      <th>151-180</th>\n      <th>181-210</th>\n      <th>211-240</th>\n      <th>241-270</th>\n      <th>271-300</th>\n      <th>301-330</th>\n      <th>31-60</th>\n      <th>331-365</th>\n      <th>61-90</th>\n      <th>91-120</th>\n    </tr>\n  </thead>\n  <tbody>\n    <tr>\n      <th>0</th>\n      <td>0</td>\n      <td>0</td>\n      <td>1</td>\n      <td>0</td>\n      <td>0</td>\n      <td>1</td>\n      <td>0</td>\n      <td>0</td>\n      <td>0</td>\n      <td>0</td>\n      <td>...</td>\n      <td>0</td>\n      <td>0</td>\n      <td>0</td>\n      <td>0</td>\n      <td>0</td>\n      <td>0</td>\n      <td>0</td>\n      <td>1</td>\n      <td>0</td>\n      <td>0</td>\n    </tr>\n    <tr>\n      <th>2</th>\n      <td>0</td>\n      <td>1</td>\n      <td>0</td>\n      <td>0</td>\n      <td>0</td>\n      <td>0</td>\n      <td>0</td>\n      <td>1</td>\n      <td>0</td>\n      <td>0</td>\n      <td>...</td>\n      <td>0</td>\n      <td>0</td>\n      <td>0</td>\n      <td>0</td>\n      <td>0</td>\n      <td>0</td>\n      <td>0</td>\n      <td>1</td>\n      <td>0</td>\n      <td>0</td>\n    </tr>\n    <tr>\n      <th>4</th>\n      <td>0</td>\n      <td>0</td>\n      <td>1</td>\n      <td>0</td>\n      <td>0</td>\n      <td>0</td>\n      <td>0</td>\n      <td>1</td>\n      <td>0</td>\n      <td>0</td>\n      <td>...</td>\n      <td>0</td>\n      <td>1</td>\n      <td>0</td>\n      <td>0</td>\n      <td>0</td>\n      <td>0</td>\n      <td>0</td>\n      <td>0</td>\n      <td>0</td>\n      <td>0</td>\n    </tr>\n    <tr>\n      <th>5</th>\n      <td>0</td>\n      <td>0</td>\n      <td>1</td>\n      <td>0</td>\n      <td>0</td>\n      <td>0</td>\n      <td>0</td>\n      <td>1</td>\n      <td>0</td>\n      <td>0</td>\n      <td>...</td>\n      <td>0</td>\n      <td>0</td>\n      <td>0</td>\n      <td>0</td>\n      <td>0</td>\n      <td>0</td>\n      <td>0</td>\n      <td>0</td>\n      <td>0</td>\n      <td>0</td>\n    </tr>\n    <tr>\n      <th>6</th>\n      <td>0</td>\n      <td>1</td>\n      <td>0</td>\n      <td>0</td>\n      <td>0</td>\n      <td>0</td>\n      <td>0</td>\n      <td>1</td>\n      <td>0</td>\n      <td>0</td>\n      <td>...</td>\n      <td>0</td>\n      <td>0</td>\n      <td>0</td>\n      <td>0</td>\n      <td>0</td>\n      <td>1</td>\n      <td>0</td>\n      <td>0</td>\n      <td>0</td>\n      <td>0</td>\n    </tr>\n    <tr>\n      <th>...</th>\n      <td>...</td>\n      <td>...</td>\n      <td>...</td>\n      <td>...</td>\n      <td>...</td>\n      <td>...</td>\n      <td>...</td>\n      <td>...</td>\n      <td>...</td>\n      <td>...</td>\n      <td>...</td>\n      <td>...</td>\n      <td>...</td>\n      <td>...</td>\n      <td>...</td>\n      <td>...</td>\n      <td>...</td>\n      <td>...</td>\n      <td>...</td>\n      <td>...</td>\n      <td>...</td>\n    </tr>\n    <tr>\n      <th>28738</th>\n      <td>0</td>\n      <td>1</td>\n      <td>0</td>\n      <td>0</td>\n      <td>0</td>\n      <td>0</td>\n      <td>0</td>\n      <td>1</td>\n      <td>0</td>\n      <td>0</td>\n      <td>...</td>\n      <td>1</td>\n      <td>0</td>\n      <td>0</td>\n      <td>0</td>\n      <td>0</td>\n      <td>0</td>\n      <td>0</td>\n      <td>0</td>\n      <td>0</td>\n      <td>0</td>\n    </tr>\n    <tr>\n      <th>28739</th>\n      <td>0</td>\n      <td>1</td>\n      <td>0</td>\n      <td>0</td>\n      <td>0</td>\n      <td>0</td>\n      <td>0</td>\n      <td>1</td>\n      <td>0</td>\n      <td>0</td>\n      <td>...</td>\n      <td>1</td>\n      <td>0</td>\n      <td>0</td>\n      <td>0</td>\n      <td>0</td>\n      <td>0</td>\n      <td>0</td>\n      <td>0</td>\n      <td>0</td>\n      <td>0</td>\n    </tr>\n    <tr>\n      <th>28741</th>\n      <td>0</td>\n      <td>0</td>\n      <td>1</td>\n      <td>0</td>\n      <td>0</td>\n      <td>0</td>\n      <td>0</td>\n      <td>1</td>\n      <td>0</td>\n      <td>0</td>\n      <td>...</td>\n      <td>1</td>\n      <td>0</td>\n      <td>0</td>\n      <td>0</td>\n      <td>0</td>\n      <td>0</td>\n      <td>0</td>\n      <td>0</td>\n      <td>0</td>\n      <td>0</td>\n    </tr>\n    <tr>\n      <th>28742</th>\n      <td>0</td>\n      <td>0</td>\n      <td>0</td>\n      <td>1</td>\n      <td>0</td>\n      <td>0</td>\n      <td>0</td>\n      <td>1</td>\n      <td>0</td>\n      <td>0</td>\n      <td>...</td>\n      <td>0</td>\n      <td>0</td>\n      <td>0</td>\n      <td>0</td>\n      <td>0</td>\n      <td>0</td>\n      <td>0</td>\n      <td>1</td>\n      <td>0</td>\n      <td>0</td>\n    </tr>\n    <tr>\n      <th>28745</th>\n      <td>0</td>\n      <td>1</td>\n      <td>0</td>\n      <td>0</td>\n      <td>0</td>\n      <td>1</td>\n      <td>0</td>\n      <td>0</td>\n      <td>0</td>\n      <td>0</td>\n      <td>...</td>\n      <td>0</td>\n      <td>0</td>\n      <td>0</td>\n      <td>0</td>\n      <td>0</td>\n      <td>0</td>\n      <td>0</td>\n      <td>0</td>\n      <td>1</td>\n      <td>0</td>\n    </tr>\n  </tbody>\n</table>\n<p>20457 rows × 279 columns</p>\n</div>"
     },
     "execution_count": 54,
     "metadata": {},
     "output_type": "execute_result"
    }
   ],
   "source": [
    "room_user_vector_features = df.columns[6:]\n",
    "df[room_user_vector_features]"
   ],
   "metadata": {
    "collapsed": false,
    "pycharm": {
     "name": "#%%\n"
    }
   }
  },
  {
   "cell_type": "markdown",
   "source": [
    "### **Normalizing the columns**"
   ],
   "metadata": {
    "collapsed": false
   }
  },
  {
   "cell_type": "code",
   "execution_count": 55,
   "outputs": [],
   "source": [
    "# We normalize the columns by multiplying the encoded value 1 by the average rating of the room and then divide it by 5 (maximum rating).\n",
    "def normalize_df(df: pd.DataFrame, cols_to_norm: list) -> pd.DataFrame:\n",
    "    df = df.copy()\n",
    "    for col in cols_to_norm:\n",
    "        df[col] = df[col] * df.rating / 5\n",
    "    return df"
   ],
   "metadata": {
    "collapsed": false,
    "pycharm": {
     "name": "#%%\n"
    }
   }
  },
  {
   "cell_type": "code",
   "execution_count": 56,
   "outputs": [
    {
     "data": {
      "text/plain": "             id                                            name  price  \\\n0          2595                           Skylit Midtown Castle    150   \n2          5121                                 BlissArtsSpace!     60   \n4          5178                Large Furnished Room Near B'way　     68   \n5          5203              Cozy Clean Guest Room - Family Apt     75   \n6          5803  Lovely Room 1, Garden, Best Area, Legal rental     98   \n...         ...                                             ...    ...   \n28738  53560361        *NEW* Private Room for travelers in NYC!     58   \n28739  53560411  Beautiful 1-Bedroom in a Prime Location in NYC     60   \n28741  53572271    Beautiful Private Room In a shared apartment     71   \n28742  53572597                         Astoria Luxury suite 2A     89   \n28745  53614162    New Beautiful Modern One Bedroom in Brooklyn     84   \n\n       minimum_nights  rating  \\\n0                  30    4.70   \n2                  30    4.52   \n4                   2    4.22   \n5                   2    4.91   \n6                   4    4.70   \n...               ...     ...   \n28738               1    4.18   \n28739               1    4.33   \n28741               1    4.60   \n28742               1    5.00   \n28745               7    5.00   \n\n                                                  images  Bronx  Brooklyn  \\\n0      https://a0.muscache.com/im/pictures/f0813a11-4...    0.0     0.000   \n2      https://a0.muscache.com/im/pictures/2090980c-b...    0.0     0.904   \n4      https://a0.muscache.com/im/pictures/12065/f070...    0.0     0.000   \n5      https://a0.muscache.com/im/pictures/103776/b37...    0.0     0.000   \n6      https://a0.muscache.com/im/pictures/2884180/f1...    0.0     0.940   \n...                                                  ...    ...       ...   \n28738  https://a0.muscache.com/im/pictures/miso/Hosti...    0.0     0.836   \n28739  https://a0.muscache.com/im/pictures/miso/Hosti...    0.0     0.866   \n28741  https://a0.muscache.com/im/pictures/782eae85-b...    0.0     0.000   \n28742  https://a0.muscache.com/im/pictures/b5b3b2e7-c...    0.0     0.000   \n28745  https://a0.muscache.com/im/pictures/miso/Hosti...    0.0     1.000   \n\n       Manhattan  Queens  ...  151-180  181-210  211-240  241-270  271-300  \\\n0          0.940     0.0  ...    0.000    0.000      0.0      0.0      0.0   \n2          0.000     0.0  ...    0.000    0.000      0.0      0.0      0.0   \n4          0.844     0.0  ...    0.000    0.844      0.0      0.0      0.0   \n5          0.982     0.0  ...    0.000    0.000      0.0      0.0      0.0   \n6          0.000     0.0  ...    0.000    0.000      0.0      0.0      0.0   \n...          ...     ...  ...      ...      ...      ...      ...      ...   \n28738      0.000     0.0  ...    0.836    0.000      0.0      0.0      0.0   \n28739      0.000     0.0  ...    0.866    0.000      0.0      0.0      0.0   \n28741      0.920     0.0  ...    0.920    0.000      0.0      0.0      0.0   \n28742      0.000     1.0  ...    0.000    0.000      0.0      0.0      0.0   \n28745      0.000     0.0  ...    0.000    0.000      0.0      0.0      0.0   \n\n       301-330  31-60  331-365  61-90  91-120  \n0         0.00    0.0    0.940    0.0     0.0  \n2         0.00    0.0    0.904    0.0     0.0  \n4         0.00    0.0    0.000    0.0     0.0  \n5         0.00    0.0    0.000    0.0     0.0  \n6         0.94    0.0    0.000    0.0     0.0  \n...        ...    ...      ...    ...     ...  \n28738     0.00    0.0    0.000    0.0     0.0  \n28739     0.00    0.0    0.000    0.0     0.0  \n28741     0.00    0.0    0.000    0.0     0.0  \n28742     0.00    0.0    1.000    0.0     0.0  \n28745     0.00    0.0    0.000    1.0     0.0  \n\n[20457 rows x 285 columns]",
      "text/html": "<div>\n<style scoped>\n    .dataframe tbody tr th:only-of-type {\n        vertical-align: middle;\n    }\n\n    .dataframe tbody tr th {\n        vertical-align: top;\n    }\n\n    .dataframe thead th {\n        text-align: right;\n    }\n</style>\n<table border=\"1\" class=\"dataframe\">\n  <thead>\n    <tr style=\"text-align: right;\">\n      <th></th>\n      <th>id</th>\n      <th>name</th>\n      <th>price</th>\n      <th>minimum_nights</th>\n      <th>rating</th>\n      <th>images</th>\n      <th>Bronx</th>\n      <th>Brooklyn</th>\n      <th>Manhattan</th>\n      <th>Queens</th>\n      <th>...</th>\n      <th>151-180</th>\n      <th>181-210</th>\n      <th>211-240</th>\n      <th>241-270</th>\n      <th>271-300</th>\n      <th>301-330</th>\n      <th>31-60</th>\n      <th>331-365</th>\n      <th>61-90</th>\n      <th>91-120</th>\n    </tr>\n  </thead>\n  <tbody>\n    <tr>\n      <th>0</th>\n      <td>2595</td>\n      <td>Skylit Midtown Castle</td>\n      <td>150</td>\n      <td>30</td>\n      <td>4.70</td>\n      <td>https://a0.muscache.com/im/pictures/f0813a11-4...</td>\n      <td>0.0</td>\n      <td>0.000</td>\n      <td>0.940</td>\n      <td>0.0</td>\n      <td>...</td>\n      <td>0.000</td>\n      <td>0.000</td>\n      <td>0.0</td>\n      <td>0.0</td>\n      <td>0.0</td>\n      <td>0.00</td>\n      <td>0.0</td>\n      <td>0.940</td>\n      <td>0.0</td>\n      <td>0.0</td>\n    </tr>\n    <tr>\n      <th>2</th>\n      <td>5121</td>\n      <td>BlissArtsSpace!</td>\n      <td>60</td>\n      <td>30</td>\n      <td>4.52</td>\n      <td>https://a0.muscache.com/im/pictures/2090980c-b...</td>\n      <td>0.0</td>\n      <td>0.904</td>\n      <td>0.000</td>\n      <td>0.0</td>\n      <td>...</td>\n      <td>0.000</td>\n      <td>0.000</td>\n      <td>0.0</td>\n      <td>0.0</td>\n      <td>0.0</td>\n      <td>0.00</td>\n      <td>0.0</td>\n      <td>0.904</td>\n      <td>0.0</td>\n      <td>0.0</td>\n    </tr>\n    <tr>\n      <th>4</th>\n      <td>5178</td>\n      <td>Large Furnished Room Near B'way</td>\n      <td>68</td>\n      <td>2</td>\n      <td>4.22</td>\n      <td>https://a0.muscache.com/im/pictures/12065/f070...</td>\n      <td>0.0</td>\n      <td>0.000</td>\n      <td>0.844</td>\n      <td>0.0</td>\n      <td>...</td>\n      <td>0.000</td>\n      <td>0.844</td>\n      <td>0.0</td>\n      <td>0.0</td>\n      <td>0.0</td>\n      <td>0.00</td>\n      <td>0.0</td>\n      <td>0.000</td>\n      <td>0.0</td>\n      <td>0.0</td>\n    </tr>\n    <tr>\n      <th>5</th>\n      <td>5203</td>\n      <td>Cozy Clean Guest Room - Family Apt</td>\n      <td>75</td>\n      <td>2</td>\n      <td>4.91</td>\n      <td>https://a0.muscache.com/im/pictures/103776/b37...</td>\n      <td>0.0</td>\n      <td>0.000</td>\n      <td>0.982</td>\n      <td>0.0</td>\n      <td>...</td>\n      <td>0.000</td>\n      <td>0.000</td>\n      <td>0.0</td>\n      <td>0.0</td>\n      <td>0.0</td>\n      <td>0.00</td>\n      <td>0.0</td>\n      <td>0.000</td>\n      <td>0.0</td>\n      <td>0.0</td>\n    </tr>\n    <tr>\n      <th>6</th>\n      <td>5803</td>\n      <td>Lovely Room 1, Garden, Best Area, Legal rental</td>\n      <td>98</td>\n      <td>4</td>\n      <td>4.70</td>\n      <td>https://a0.muscache.com/im/pictures/2884180/f1...</td>\n      <td>0.0</td>\n      <td>0.940</td>\n      <td>0.000</td>\n      <td>0.0</td>\n      <td>...</td>\n      <td>0.000</td>\n      <td>0.000</td>\n      <td>0.0</td>\n      <td>0.0</td>\n      <td>0.0</td>\n      <td>0.94</td>\n      <td>0.0</td>\n      <td>0.000</td>\n      <td>0.0</td>\n      <td>0.0</td>\n    </tr>\n    <tr>\n      <th>...</th>\n      <td>...</td>\n      <td>...</td>\n      <td>...</td>\n      <td>...</td>\n      <td>...</td>\n      <td>...</td>\n      <td>...</td>\n      <td>...</td>\n      <td>...</td>\n      <td>...</td>\n      <td>...</td>\n      <td>...</td>\n      <td>...</td>\n      <td>...</td>\n      <td>...</td>\n      <td>...</td>\n      <td>...</td>\n      <td>...</td>\n      <td>...</td>\n      <td>...</td>\n      <td>...</td>\n    </tr>\n    <tr>\n      <th>28738</th>\n      <td>53560361</td>\n      <td>*NEW* Private Room for travelers in NYC!</td>\n      <td>58</td>\n      <td>1</td>\n      <td>4.18</td>\n      <td>https://a0.muscache.com/im/pictures/miso/Hosti...</td>\n      <td>0.0</td>\n      <td>0.836</td>\n      <td>0.000</td>\n      <td>0.0</td>\n      <td>...</td>\n      <td>0.836</td>\n      <td>0.000</td>\n      <td>0.0</td>\n      <td>0.0</td>\n      <td>0.0</td>\n      <td>0.00</td>\n      <td>0.0</td>\n      <td>0.000</td>\n      <td>0.0</td>\n      <td>0.0</td>\n    </tr>\n    <tr>\n      <th>28739</th>\n      <td>53560411</td>\n      <td>Beautiful 1-Bedroom in a Prime Location in NYC</td>\n      <td>60</td>\n      <td>1</td>\n      <td>4.33</td>\n      <td>https://a0.muscache.com/im/pictures/miso/Hosti...</td>\n      <td>0.0</td>\n      <td>0.866</td>\n      <td>0.000</td>\n      <td>0.0</td>\n      <td>...</td>\n      <td>0.866</td>\n      <td>0.000</td>\n      <td>0.0</td>\n      <td>0.0</td>\n      <td>0.0</td>\n      <td>0.00</td>\n      <td>0.0</td>\n      <td>0.000</td>\n      <td>0.0</td>\n      <td>0.0</td>\n    </tr>\n    <tr>\n      <th>28741</th>\n      <td>53572271</td>\n      <td>Beautiful Private Room In a shared apartment</td>\n      <td>71</td>\n      <td>1</td>\n      <td>4.60</td>\n      <td>https://a0.muscache.com/im/pictures/782eae85-b...</td>\n      <td>0.0</td>\n      <td>0.000</td>\n      <td>0.920</td>\n      <td>0.0</td>\n      <td>...</td>\n      <td>0.920</td>\n      <td>0.000</td>\n      <td>0.0</td>\n      <td>0.0</td>\n      <td>0.0</td>\n      <td>0.00</td>\n      <td>0.0</td>\n      <td>0.000</td>\n      <td>0.0</td>\n      <td>0.0</td>\n    </tr>\n    <tr>\n      <th>28742</th>\n      <td>53572597</td>\n      <td>Astoria Luxury suite 2A</td>\n      <td>89</td>\n      <td>1</td>\n      <td>5.00</td>\n      <td>https://a0.muscache.com/im/pictures/b5b3b2e7-c...</td>\n      <td>0.0</td>\n      <td>0.000</td>\n      <td>0.000</td>\n      <td>1.0</td>\n      <td>...</td>\n      <td>0.000</td>\n      <td>0.000</td>\n      <td>0.0</td>\n      <td>0.0</td>\n      <td>0.0</td>\n      <td>0.00</td>\n      <td>0.0</td>\n      <td>1.000</td>\n      <td>0.0</td>\n      <td>0.0</td>\n    </tr>\n    <tr>\n      <th>28745</th>\n      <td>53614162</td>\n      <td>New Beautiful Modern One Bedroom in Brooklyn</td>\n      <td>84</td>\n      <td>7</td>\n      <td>5.00</td>\n      <td>https://a0.muscache.com/im/pictures/miso/Hosti...</td>\n      <td>0.0</td>\n      <td>1.000</td>\n      <td>0.000</td>\n      <td>0.0</td>\n      <td>...</td>\n      <td>0.000</td>\n      <td>0.000</td>\n      <td>0.0</td>\n      <td>0.0</td>\n      <td>0.0</td>\n      <td>0.00</td>\n      <td>0.0</td>\n      <td>0.000</td>\n      <td>1.0</td>\n      <td>0.0</td>\n    </tr>\n  </tbody>\n</table>\n<p>20457 rows × 285 columns</p>\n</div>"
     },
     "execution_count": 56,
     "metadata": {},
     "output_type": "execute_result"
    }
   ],
   "source": [
    "df = normalize_df(df, room_user_vector_features)\n",
    "df"
   ],
   "metadata": {
    "collapsed": false,
    "pycharm": {
     "name": "#%%\n"
    }
   }
  },
  {
   "cell_type": "code",
   "execution_count": 57,
   "outputs": [],
   "source": [
    "df.to_csv('../data/New_York_Airbnb_4_dec_2021_final.csv', index=False)"
   ],
   "metadata": {
    "collapsed": false,
    "pycharm": {
     "name": "#%%\n"
    }
   }
  },
  {
   "cell_type": "code",
   "execution_count": null,
   "outputs": [],
   "source": [],
   "metadata": {
    "collapsed": false,
    "pycharm": {
     "name": "#%%\n"
    }
   }
  }
 ],
 "metadata": {
  "kernelspec": {
   "display_name": "Python 3",
   "language": "python",
   "name": "python3"
  },
  "language_info": {
   "codemirror_mode": {
    "name": "ipython",
    "version": 2
   },
   "file_extension": ".py",
   "mimetype": "text/x-python",
   "name": "python",
   "nbconvert_exporter": "python",
   "pygments_lexer": "ipython2",
   "version": "2.7.6"
  }
 },
 "nbformat": 4,
 "nbformat_minor": 0
}